{
 "cells": [
  {
   "cell_type": "markdown",
   "metadata": {},
   "source": [
    "## Creating CNN Using Scratch And Transfer Learning"
   ]
  },
  {
   "cell_type": "markdown",
   "metadata": {},
   "source": [
    "Please download the dataset from the below url"
   ]
  },
  {
   "cell_type": "code",
   "execution_count": 1,
   "metadata": {},
   "outputs": [],
   "source": [
    "# import the libraries as shown below\n",
    "\n",
    "from tensorflow.keras.layers import Input, Lambda, Dense, Flatten,Conv2D\n",
    "from tensorflow.keras.models import Model\n",
    "from tensorflow.keras.applications.vgg19 import VGG19\n",
    "from tensorflow.keras.applications.resnet50 import preprocess_input\n",
    "from tensorflow.keras.preprocessing import image\n",
    "from tensorflow.keras.preprocessing.image import ImageDataGenerator,load_img\n",
    "from tensorflow.keras.models import Sequential\n",
    "import numpy as np\n",
    "from glob import glob\n",
    "import matplotlib.pyplot as plt"
   ]
  },
  {
   "cell_type": "code",
   "execution_count": 2,
   "metadata": {},
   "outputs": [],
   "source": [
    "# re-size all the images to this\n",
    "IMAGE_SIZE = [224, 224]\n",
    "\n",
    "train_path = 'Dataset/Train'\n",
    "valid_path = 'Dataset/Test'\n"
   ]
  },
  {
   "cell_type": "code",
   "execution_count": 3,
   "metadata": {},
   "outputs": [
    {
     "name": "stdout",
     "output_type": "stream",
     "text": [
      "Downloading data from https://storage.googleapis.com/tensorflow/keras-applications/vgg19/vgg19_weights_tf_dim_ordering_tf_kernels_notop.h5\n",
      "80142336/80134624 [==============================] - 19s 0us/step\n",
      "80150528/80134624 [==============================] - 19s 0us/step\n"
     ]
    }
   ],
   "source": [
    "# Import the Vgg 16 library as shown below and add preprocessing layer to the front of VGG\n",
    "# Here we will be using imagenet weights\n",
    "\n",
    "mobilnet = VGG19(input_shape=IMAGE_SIZE + [3], weights='imagenet', include_top=False)\n",
    "\n",
    "\n"
   ]
  },
  {
   "cell_type": "code",
   "execution_count": 4,
   "metadata": {},
   "outputs": [],
   "source": [
    "# don't train existing weights\n",
    "for layer in mobilnet.layers:\n",
    "    layer.trainable = False"
   ]
  },
  {
   "cell_type": "code",
   "execution_count": 5,
   "metadata": {},
   "outputs": [],
   "source": [
    "  # useful for getting number of output classes\n",
    "folders = glob('Dataset/Train/*')"
   ]
  },
  {
   "cell_type": "code",
   "execution_count": 6,
   "metadata": {},
   "outputs": [
    {
     "data": {
      "text/plain": [
       "['Dataset/Train\\\\Parasite', 'Dataset/Train\\\\Uninfected']"
      ]
     },
     "execution_count": 6,
     "metadata": {},
     "output_type": "execute_result"
    }
   ],
   "source": [
    "folders"
   ]
  },
  {
   "cell_type": "code",
   "execution_count": 7,
   "metadata": {},
   "outputs": [],
   "source": [
    "# our layers - you can add more if you want\n",
    "x = Flatten()(mobilnet.output)"
   ]
  },
  {
   "cell_type": "code",
   "execution_count": 8,
   "metadata": {},
   "outputs": [],
   "source": [
    "prediction = Dense(len(folders), activation='softmax')(x)\n",
    "\n",
    "# create a model object\n",
    "model = Model(inputs=mobilnet.input, outputs=prediction)"
   ]
  },
  {
   "cell_type": "code",
   "execution_count": 9,
   "metadata": {},
   "outputs": [
    {
     "name": "stdout",
     "output_type": "stream",
     "text": [
      "Model: \"model\"\n",
      "_________________________________________________________________\n",
      "Layer (type)                 Output Shape              Param #   \n",
      "=================================================================\n",
      "input_1 (InputLayer)         [(None, 224, 224, 3)]     0         \n",
      "_________________________________________________________________\n",
      "block1_conv1 (Conv2D)        (None, 224, 224, 64)      1792      \n",
      "_________________________________________________________________\n",
      "block1_conv2 (Conv2D)        (None, 224, 224, 64)      36928     \n",
      "_________________________________________________________________\n",
      "block1_pool (MaxPooling2D)   (None, 112, 112, 64)      0         \n",
      "_________________________________________________________________\n",
      "block2_conv1 (Conv2D)        (None, 112, 112, 128)     73856     \n",
      "_________________________________________________________________\n",
      "block2_conv2 (Conv2D)        (None, 112, 112, 128)     147584    \n",
      "_________________________________________________________________\n",
      "block2_pool (MaxPooling2D)   (None, 56, 56, 128)       0         \n",
      "_________________________________________________________________\n",
      "block3_conv1 (Conv2D)        (None, 56, 56, 256)       295168    \n",
      "_________________________________________________________________\n",
      "block3_conv2 (Conv2D)        (None, 56, 56, 256)       590080    \n",
      "_________________________________________________________________\n",
      "block3_conv3 (Conv2D)        (None, 56, 56, 256)       590080    \n",
      "_________________________________________________________________\n",
      "block3_conv4 (Conv2D)        (None, 56, 56, 256)       590080    \n",
      "_________________________________________________________________\n",
      "block3_pool (MaxPooling2D)   (None, 28, 28, 256)       0         \n",
      "_________________________________________________________________\n",
      "block4_conv1 (Conv2D)        (None, 28, 28, 512)       1180160   \n",
      "_________________________________________________________________\n",
      "block4_conv2 (Conv2D)        (None, 28, 28, 512)       2359808   \n",
      "_________________________________________________________________\n",
      "block4_conv3 (Conv2D)        (None, 28, 28, 512)       2359808   \n",
      "_________________________________________________________________\n",
      "block4_conv4 (Conv2D)        (None, 28, 28, 512)       2359808   \n",
      "_________________________________________________________________\n",
      "block4_pool (MaxPooling2D)   (None, 14, 14, 512)       0         \n",
      "_________________________________________________________________\n",
      "block5_conv1 (Conv2D)        (None, 14, 14, 512)       2359808   \n",
      "_________________________________________________________________\n",
      "block5_conv2 (Conv2D)        (None, 14, 14, 512)       2359808   \n",
      "_________________________________________________________________\n",
      "block5_conv3 (Conv2D)        (None, 14, 14, 512)       2359808   \n",
      "_________________________________________________________________\n",
      "block5_conv4 (Conv2D)        (None, 14, 14, 512)       2359808   \n",
      "_________________________________________________________________\n",
      "block5_pool (MaxPooling2D)   (None, 7, 7, 512)         0         \n",
      "_________________________________________________________________\n",
      "flatten (Flatten)            (None, 25088)             0         \n",
      "_________________________________________________________________\n",
      "dense (Dense)                (None, 2)                 50178     \n",
      "=================================================================\n",
      "Total params: 20,074,562\n",
      "Trainable params: 50,178\n",
      "Non-trainable params: 20,024,384\n",
      "_________________________________________________________________\n"
     ]
    }
   ],
   "source": [
    "\n",
    "# view the structure of the model\n",
    "model.summary()\n"
   ]
  },
  {
   "cell_type": "code",
   "execution_count": 10,
   "metadata": {},
   "outputs": [],
   "source": [
    "from tensorflow.keras.layers import MaxPooling2D"
   ]
  },
  {
   "cell_type": "code",
   "execution_count": 11,
   "metadata": {},
   "outputs": [
    {
     "name": "stdout",
     "output_type": "stream",
     "text": [
      "Model: \"sequential\"\n",
      "_________________________________________________________________\n",
      "Layer (type)                 Output Shape              Param #   \n",
      "=================================================================\n",
      "conv2d (Conv2D)              (None, 224, 224, 16)      208       \n",
      "_________________________________________________________________\n",
      "max_pooling2d (MaxPooling2D) (None, 112, 112, 16)      0         \n",
      "_________________________________________________________________\n",
      "conv2d_1 (Conv2D)            (None, 112, 112, 32)      2080      \n",
      "_________________________________________________________________\n",
      "max_pooling2d_1 (MaxPooling2 (None, 56, 56, 32)        0         \n",
      "_________________________________________________________________\n",
      "conv2d_2 (Conv2D)            (None, 56, 56, 64)        8256      \n",
      "_________________________________________________________________\n",
      "max_pooling2d_2 (MaxPooling2 (None, 28, 28, 64)        0         \n",
      "_________________________________________________________________\n",
      "flatten_1 (Flatten)          (None, 50176)             0         \n",
      "_________________________________________________________________\n",
      "dense_1 (Dense)              (None, 500)               25088500  \n",
      "_________________________________________________________________\n",
      "dense_2 (Dense)              (None, 2)                 1002      \n",
      "=================================================================\n",
      "Total params: 25,100,046\n",
      "Trainable params: 25,100,046\n",
      "Non-trainable params: 0\n",
      "_________________________________________________________________\n"
     ]
    }
   ],
   "source": [
    "### Create Model from scratch using CNN\n",
    "model=Sequential()\n",
    "model.add(Conv2D(filters=16,kernel_size=2,padding=\"same\",activation=\"relu\",input_shape=(224,224,3)))\n",
    "model.add(MaxPooling2D(pool_size=2))\n",
    "model.add(Conv2D(filters=32,kernel_size=2,padding=\"same\",activation =\"relu\"))\n",
    "model.add(MaxPooling2D(pool_size=2))\n",
    "model.add(Conv2D(filters=64,kernel_size=2,padding=\"same\",activation=\"relu\"))\n",
    "model.add(MaxPooling2D(pool_size=2))\n",
    "model.add(Flatten())\n",
    "model.add(Dense(500,activation=\"relu\"))\n",
    "model.add(Dense(2,activation=\"softmax\"))\n",
    "model.summary()"
   ]
  },
  {
   "cell_type": "code",
   "execution_count": 12,
   "metadata": {},
   "outputs": [],
   "source": [
    "# tell the model what cost and optimization method to use\n",
    "model.compile(\n",
    "  loss='categorical_crossentropy',\n",
    "  optimizer='adam',\n",
    "  metrics=['accuracy']\n",
    ")\n"
   ]
  },
  {
   "cell_type": "code",
   "execution_count": 13,
   "metadata": {},
   "outputs": [],
   "source": [
    "# Use the Image Data Generator to import the images from the dataset\n",
    "from tensorflow.keras.preprocessing.image import ImageDataGenerator\n",
    "\n",
    "train_datagen = ImageDataGenerator(rescale = 1./255,\n",
    "                                   shear_range = 0.2,\n",
    "                                   zoom_range = 0.2,\n",
    "                                   horizontal_flip = True)\n",
    "\n",
    "test_datagen = ImageDataGenerator(rescale = 1./255)"
   ]
  },
  {
   "cell_type": "code",
   "execution_count": 14,
   "metadata": {},
   "outputs": [
    {
     "name": "stdout",
     "output_type": "stream",
     "text": [
      "Found 416 images belonging to 2 classes.\n"
     ]
    }
   ],
   "source": [
    "# Make sure you provide the same target size as initialied for the image size\n",
    "training_set = train_datagen.flow_from_directory('Dataset/Train',\n",
    "                                                 target_size = (224, 224),\n",
    "                                                 batch_size = 32,\n",
    "                                                 class_mode = 'categorical')"
   ]
  },
  {
   "cell_type": "code",
   "execution_count": 15,
   "metadata": {},
   "outputs": [
    {
     "data": {
      "text/plain": [
       "<keras.preprocessing.image.DirectoryIterator at 0x1f198c74670>"
      ]
     },
     "execution_count": 15,
     "metadata": {},
     "output_type": "execute_result"
    }
   ],
   "source": [
    "training_set"
   ]
  },
  {
   "cell_type": "code",
   "execution_count": 16,
   "metadata": {},
   "outputs": [
    {
     "name": "stdout",
     "output_type": "stream",
     "text": [
      "Found 134 images belonging to 2 classes.\n"
     ]
    }
   ],
   "source": [
    "test_set = test_datagen.flow_from_directory('Dataset/Test',\n",
    "                                            target_size = (224, 224),\n",
    "                                            batch_size = 32,\n",
    "                                            class_mode = 'categorical')"
   ]
  },
  {
   "cell_type": "code",
   "execution_count": 18,
   "metadata": {
    "scrolled": true
   },
   "outputs": [
    {
     "name": "stderr",
     "output_type": "stream",
     "text": [
      "C:\\Users\\Dell\\AppData\\Roaming\\Python\\Python39\\site-packages\\keras\\engine\\training.py:1972: UserWarning: `Model.fit_generator` is deprecated and will be removed in a future version. Please use `Model.fit`, which supports generators.\n",
      "  warnings.warn('`Model.fit_generator` is deprecated and '\n"
     ]
    },
    {
     "name": "stdout",
     "output_type": "stream",
     "text": [
      "Epoch 1/50\n",
      "13/13 [==============================] - 25s 2s/step - loss: 1.3156 - accuracy: 0.5240 - val_loss: 0.6996 - val_accuracy: 0.3955\n",
      "Epoch 2/50\n",
      "13/13 [==============================] - 23s 2s/step - loss: 0.6637 - accuracy: 0.5938 - val_loss: 0.7311 - val_accuracy: 0.3358\n",
      "Epoch 3/50\n",
      "13/13 [==============================] - 21s 2s/step - loss: 0.6322 - accuracy: 0.6587 - val_loss: 0.7286 - val_accuracy: 0.4104\n",
      "Epoch 4/50\n",
      "13/13 [==============================] - 21s 2s/step - loss: 0.5718 - accuracy: 0.6803 - val_loss: 0.7583 - val_accuracy: 0.4328\n",
      "Epoch 5/50\n",
      "13/13 [==============================] - 25s 2s/step - loss: 0.5167 - accuracy: 0.7188 - val_loss: 0.7868 - val_accuracy: 0.4179\n",
      "Epoch 6/50\n",
      "13/13 [==============================] - 26s 2s/step - loss: 0.4883 - accuracy: 0.7524 - val_loss: 0.6001 - val_accuracy: 0.6716\n",
      "Epoch 7/50\n",
      "13/13 [==============================] - 32s 2s/step - loss: 0.4359 - accuracy: 0.7644 - val_loss: 0.7037 - val_accuracy: 0.5373\n",
      "Epoch 8/50\n",
      "13/13 [==============================] - 22s 2s/step - loss: 0.3861 - accuracy: 0.8269 - val_loss: 1.0724 - val_accuracy: 0.4552\n",
      "Epoch 9/50\n",
      "13/13 [==============================] - 22s 2s/step - loss: 0.3469 - accuracy: 0.8462 - val_loss: 0.8317 - val_accuracy: 0.5672\n",
      "Epoch 10/50\n",
      "13/13 [==============================] - 21s 2s/step - loss: 0.3453 - accuracy: 0.8462 - val_loss: 1.1743 - val_accuracy: 0.4328\n",
      "Epoch 11/50\n",
      "13/13 [==============================] - 21s 2s/step - loss: 0.3682 - accuracy: 0.8558 - val_loss: 0.6765 - val_accuracy: 0.6418\n",
      "Epoch 12/50\n",
      "13/13 [==============================] - 22s 2s/step - loss: 0.3012 - accuracy: 0.8894 - val_loss: 0.4515 - val_accuracy: 0.7463\n",
      "Epoch 13/50\n",
      "13/13 [==============================] - 21s 2s/step - loss: 0.2420 - accuracy: 0.9087 - val_loss: 0.4660 - val_accuracy: 0.7836\n",
      "Epoch 14/50\n",
      "13/13 [==============================] - 21s 2s/step - loss: 0.2734 - accuracy: 0.8822 - val_loss: 0.5253 - val_accuracy: 0.7463\n",
      "Epoch 15/50\n",
      "13/13 [==============================] - 38s 3s/step - loss: 0.2073 - accuracy: 0.9255 - val_loss: 0.4554 - val_accuracy: 0.7537\n",
      "Epoch 16/50\n",
      "13/13 [==============================] - 38s 3s/step - loss: 0.1763 - accuracy: 0.9423 - val_loss: 0.3033 - val_accuracy: 0.8731\n",
      "Epoch 17/50\n",
      "13/13 [==============================] - 36s 3s/step - loss: 0.1796 - accuracy: 0.9375 - val_loss: 0.4160 - val_accuracy: 0.8134\n",
      "Epoch 18/50\n",
      "13/13 [==============================] - 37s 3s/step - loss: 0.1417 - accuracy: 0.9495 - val_loss: 0.3366 - val_accuracy: 0.8806\n",
      "Epoch 19/50\n",
      "13/13 [==============================] - 32s 2s/step - loss: 0.1381 - accuracy: 0.9471 - val_loss: 0.3204 - val_accuracy: 0.8507\n",
      "Epoch 20/50\n",
      "13/13 [==============================] - 38s 3s/step - loss: 0.1752 - accuracy: 0.9471 - val_loss: 0.3529 - val_accuracy: 0.8507\n",
      "Epoch 21/50\n",
      "13/13 [==============================] - 36s 3s/step - loss: 0.1268 - accuracy: 0.9591 - val_loss: 0.2803 - val_accuracy: 0.8731\n",
      "Epoch 22/50\n",
      "13/13 [==============================] - 36s 3s/step - loss: 0.0987 - accuracy: 0.9736 - val_loss: 0.3954 - val_accuracy: 0.8731\n",
      "Epoch 23/50\n",
      "13/13 [==============================] - 36s 3s/step - loss: 0.2043 - accuracy: 0.9423 - val_loss: 0.3201 - val_accuracy: 0.8582\n",
      "Epoch 24/50\n",
      "13/13 [==============================] - 36s 3s/step - loss: 0.1213 - accuracy: 0.9615 - val_loss: 0.2315 - val_accuracy: 0.8806\n",
      "Epoch 25/50\n",
      "13/13 [==============================] - 37s 3s/step - loss: 0.0777 - accuracy: 0.9760 - val_loss: 0.4761 - val_accuracy: 0.8358\n",
      "Epoch 26/50\n",
      "13/13 [==============================] - 24s 2s/step - loss: 0.1114 - accuracy: 0.9639 - val_loss: 0.2594 - val_accuracy: 0.9030\n",
      "Epoch 27/50\n",
      "13/13 [==============================] - 22s 2s/step - loss: 0.0931 - accuracy: 0.9760 - val_loss: 0.3133 - val_accuracy: 0.8955\n",
      "Epoch 28/50\n",
      "13/13 [==============================] - 23s 2s/step - loss: 0.0731 - accuracy: 0.9712 - val_loss: 0.3288 - val_accuracy: 0.8955\n",
      "Epoch 29/50\n",
      "13/13 [==============================] - 22s 2s/step - loss: 0.0963 - accuracy: 0.9688 - val_loss: 0.2290 - val_accuracy: 0.9104\n",
      "Epoch 30/50\n",
      "13/13 [==============================] - 22s 2s/step - loss: 0.0728 - accuracy: 0.9808 - val_loss: 0.3709 - val_accuracy: 0.8806\n",
      "Epoch 31/50\n",
      "13/13 [==============================] - 23s 2s/step - loss: 0.0857 - accuracy: 0.9736 - val_loss: 0.2788 - val_accuracy: 0.9030\n",
      "Epoch 32/50\n",
      "13/13 [==============================] - 32s 3s/step - loss: 0.0505 - accuracy: 0.9856 - val_loss: 0.2820 - val_accuracy: 0.9179\n",
      "Epoch 33/50\n",
      "13/13 [==============================] - 34s 3s/step - loss: 0.0506 - accuracy: 0.9784 - val_loss: 0.1998 - val_accuracy: 0.9104\n",
      "Epoch 34/50\n",
      "13/13 [==============================] - 57s 5s/step - loss: 0.0569 - accuracy: 0.9856 - val_loss: 0.2311 - val_accuracy: 0.9179\n",
      "Epoch 35/50\n",
      "13/13 [==============================] - 199s 4s/step - loss: 0.0625 - accuracy: 0.9856 - val_loss: 0.5069 - val_accuracy: 0.8731\n",
      "Epoch 36/50\n",
      "13/13 [==============================] - 49s 4s/step - loss: 0.0702 - accuracy: 0.9760 - val_loss: 0.2077 - val_accuracy: 0.9254\n",
      "Epoch 37/50\n",
      "13/13 [==============================] - 43s 3s/step - loss: 0.0522 - accuracy: 0.9856 - val_loss: 0.3041 - val_accuracy: 0.9030\n",
      "Epoch 38/50\n",
      "13/13 [==============================] - 46s 4s/step - loss: 0.0605 - accuracy: 0.9832 - val_loss: 0.4286 - val_accuracy: 0.8806\n",
      "Epoch 39/50\n",
      "13/13 [==============================] - 26s 2s/step - loss: 0.0514 - accuracy: 0.9904 - val_loss: 0.2818 - val_accuracy: 0.9104\n",
      "Epoch 40/50\n",
      "13/13 [==============================] - 27s 2s/step - loss: 0.0537 - accuracy: 0.9856 - val_loss: 0.4477 - val_accuracy: 0.8881\n",
      "Epoch 41/50\n",
      "13/13 [==============================] - 26s 2s/step - loss: 0.0682 - accuracy: 0.9808 - val_loss: 0.2127 - val_accuracy: 0.9254\n",
      "Epoch 42/50\n",
      "13/13 [==============================] - 27s 2s/step - loss: 0.0377 - accuracy: 0.9928 - val_loss: 0.3388 - val_accuracy: 0.9030\n",
      "Epoch 43/50\n",
      "13/13 [==============================] - 26s 2s/step - loss: 0.0374 - accuracy: 0.9904 - val_loss: 0.2914 - val_accuracy: 0.9179\n",
      "Epoch 44/50\n",
      "13/13 [==============================] - 30s 2s/step - loss: 0.0341 - accuracy: 0.9904 - val_loss: 0.2974 - val_accuracy: 0.9104\n",
      "Epoch 45/50\n",
      "13/13 [==============================] - 29s 2s/step - loss: 0.0313 - accuracy: 0.9928 - val_loss: 0.3808 - val_accuracy: 0.8955\n",
      "Epoch 46/50\n",
      "13/13 [==============================] - 26s 2s/step - loss: 0.0326 - accuracy: 0.9856 - val_loss: 0.2338 - val_accuracy: 0.9328\n",
      "Epoch 47/50\n",
      "13/13 [==============================] - 28s 2s/step - loss: 0.0499 - accuracy: 0.9856 - val_loss: 0.4757 - val_accuracy: 0.8731\n",
      "Epoch 48/50\n",
      "13/13 [==============================] - 29s 2s/step - loss: 0.0649 - accuracy: 0.9808 - val_loss: 0.3240 - val_accuracy: 0.9030\n",
      "Epoch 49/50\n",
      "13/13 [==============================] - 29s 2s/step - loss: 0.0247 - accuracy: 0.9952 - val_loss: 0.2628 - val_accuracy: 0.9328\n",
      "Epoch 50/50\n",
      "13/13 [==============================] - 32s 3s/step - loss: 0.0252 - accuracy: 0.9952 - val_loss: 0.3450 - val_accuracy: 0.9104\n"
     ]
    }
   ],
   "source": [
    "# fit the model\n",
    "# Run the cell. It will take some time to execute\n",
    "r = model.fit_generator(\n",
    "  training_set,\n",
    "  validation_data=test_set,\n",
    "  epochs=50,\n",
    "  steps_per_epoch=len(training_set),\n",
    "  validation_steps=len(test_set)\n",
    ")"
   ]
  },
  {
   "cell_type": "code",
   "execution_count": null,
   "metadata": {},
   "outputs": [],
   "source": []
  },
  {
   "cell_type": "code",
   "execution_count": 19,
   "metadata": {},
   "outputs": [
    {
     "data": {
      "image/png": "[encoded data removed]",
      "text/plain": [
       "<Figure size 432x288 with 1 Axes>"
      ]
     },
     "metadata": {
      "needs_background": "light"
     },
     "output_type": "display_data"
    },
    {
     "data": {
      "image/png": "[encoded data removed]",
      "text/plain": [
       "<Figure size 432x288 with 1 Axes>"
      ]
     },
     "metadata": {
      "needs_background": "light"
     },
     "output_type": "display_data"
    },
    {
     "data": {
      "text/plain": [
       "<Figure size 432x288 with 0 Axes>"
      ]
     },
     "metadata": {},
     "output_type": "display_data"
    }
   ],
   "source": [
    "# plot the loss\n",
    "plt.plot(r.history['loss'], label='train loss')\n",
    "plt.plot(r.history['val_loss'], label='val loss')\n",
    "plt.legend()\n",
    "plt.show()\n",
    "plt.savefig('LossVal_loss')\n",
    "\n",
    "# plot the accuracy\n",
    "plt.plot(r.history['accuracy'], label='train acc')\n",
    "plt.plot(r.history['val_accuracy'], label='val acc')\n",
    "plt.legend()\n",
    "plt.show()\n",
    "plt.savefig('AccVal_acc')"
   ]
  },
  {
   "cell_type": "code",
   "execution_count": 20,
   "metadata": {},
   "outputs": [],
   "source": [
    "# save it as a h5 file\n",
    "\n",
    "\n",
    "from tensorflow.keras.models import load_model\n",
    "\n",
    "model.save('model_vgg19.h5')"
   ]
  },
  {
   "cell_type": "code",
   "execution_count": null,
   "metadata": {},
   "outputs": [],
   "source": []
  },
  {
   "cell_type": "code",
   "execution_count": 21,
   "metadata": {},
   "outputs": [],
   "source": [
    "\n",
    "y_pred = model.predict(test_set)\n"
   ]
  },
  {
   "cell_type": "code",
   "execution_count": 22,
   "metadata": {},
   "outputs": [
    {
     "data": {
      "text/plain": [
       "array([[2.68812105e-03, 9.97311950e-01],\n",
       "       [1.37373386e-03, 9.98626232e-01],\n",
       "       [9.99997616e-01, 2.35540710e-06],\n",
       "       [9.54332352e-01, 4.56676260e-02],\n",
       "       [1.00000000e+00, 3.69520352e-11],\n",
       "       [2.80907214e-01, 7.19092786e-01],\n",
       "       [1.00000000e+00, 2.42795320e-19],\n",
       "       [1.00000000e+00, 3.58091476e-25],\n",
       "       [1.00000000e+00, 4.33969077e-13],\n",
       "       [3.30406451e-03, 9.96695995e-01],\n",
       "       [1.00000000e+00, 7.86994026e-09],\n",
       "       [3.89613630e-03, 9.96103883e-01],\n",
       "       [1.00000000e+00, 3.45628446e-34],\n",
       "       [1.00000000e+00, 3.47416323e-15],\n",
       "       [2.03697360e-03, 9.97963071e-01],\n",
       "       [1.00000000e+00, 2.33790834e-11],\n",
       "       [1.53173658e-03, 9.98468220e-01],\n",
       "       [1.00000000e+00, 7.23044957e-09],\n",
       "       [1.00000000e+00, 4.61179879e-11],\n",
       "       [1.92912028e-03, 9.98070896e-01],\n",
       "       [1.16941123e-03, 9.98830616e-01],\n",
       "       [1.00000000e+00, 1.12336559e-15],\n",
       "       [1.00000000e+00, 4.40274617e-09],\n",
       "       [1.16647081e-03, 9.98833597e-01],\n",
       "       [6.25672238e-03, 9.93743241e-01],\n",
       "       [9.99985456e-01, 1.45929116e-05],\n",
       "       [1.00000000e+00, 2.58012962e-19],\n",
       "       [9.99978065e-01, 2.19877693e-05],\n",
       "       [9.99997735e-01, 2.31215290e-06],\n",
       "       [1.00000000e+00, 1.13224707e-12],\n",
       "       [1.96357351e-03, 9.98036444e-01],\n",
       "       [1.00000000e+00, 7.56734952e-13],\n",
       "       [8.93308548e-04, 9.99106705e-01],\n",
       "       [5.47135202e-03, 9.94528592e-01],\n",
       "       [9.99999881e-01, 1.35508827e-07],\n",
       "       [1.00000000e+00, 5.82383517e-15],\n",
       "       [9.99999881e-01, 1.24736019e-07],\n",
       "       [3.10631126e-01, 6.89368844e-01],\n",
       "       [9.99063551e-01, 9.36409924e-04],\n",
       "       [1.00000000e+00, 8.03932184e-19],\n",
       "       [2.72839540e-03, 9.97271597e-01],\n",
       "       [2.43065488e-02, 9.75693405e-01],\n",
       "       [1.45404635e-03, 9.98546004e-01],\n",
       "       [1.00000000e+00, 9.45268495e-13],\n",
       "       [1.00000000e+00, 4.74814307e-13],\n",
       "       [1.00000000e+00, 8.07622740e-14],\n",
       "       [5.27894497e-01, 4.72105443e-01],\n",
       "       [9.99997258e-01, 2.73071191e-06],\n",
       "       [2.35020630e-02, 9.76497889e-01],\n",
       "       [1.00000000e+00, 2.29483164e-12],\n",
       "       [9.99913573e-01, 8.64533067e-05],\n",
       "       [1.00000000e+00, 8.44553507e-12],\n",
       "       [2.47654528e-03, 9.97523487e-01],\n",
       "       [3.18450062e-03, 9.96815503e-01],\n",
       "       [3.77567695e-03, 9.96224284e-01],\n",
       "       [9.99401093e-01, 5.98946761e-04],\n",
       "       [2.61300430e-03, 9.97386992e-01],\n",
       "       [2.89794919e-03, 9.97102082e-01],\n",
       "       [1.00000000e+00, 4.85028855e-27],\n",
       "       [1.00000000e+00, 3.42493200e-10],\n",
       "       [5.47512114e-01, 4.52487856e-01],\n",
       "       [9.99899626e-01, 1.00391451e-04],\n",
       "       [1.00000000e+00, 1.55245549e-16],\n",
       "       [9.99810755e-01, 1.89267710e-04],\n",
       "       [6.03765901e-03, 9.93962348e-01],\n",
       "       [1.62666128e-03, 9.98373270e-01],\n",
       "       [1.00000000e+00, 3.72869166e-11],\n",
       "       [1.53338793e-03, 9.98466611e-01],\n",
       "       [6.07549539e-03, 9.93924558e-01],\n",
       "       [1.74200512e-03, 9.98258054e-01],\n",
       "       [2.79782806e-03, 9.97202158e-01],\n",
       "       [1.00000000e+00, 1.16940445e-14],\n",
       "       [1.83232967e-03, 9.98167634e-01],\n",
       "       [2.31508887e-03, 9.97684956e-01],\n",
       "       [4.54272097e-03, 9.95457292e-01],\n",
       "       [1.00000000e+00, 0.00000000e+00],\n",
       "       [1.00000000e+00, 8.66469396e-10],\n",
       "       [1.00000000e+00, 1.25823622e-20],\n",
       "       [1.00000000e+00, 2.05381514e-24],\n",
       "       [1.00000000e+00, 1.42348007e-13],\n",
       "       [1.37399556e-03, 9.98625994e-01],\n",
       "       [1.00000000e+00, 0.00000000e+00],\n",
       "       [1.00000000e+00, 3.36844357e-15],\n",
       "       [9.99978065e-01, 2.19858830e-05],\n",
       "       [1.00000000e+00, 6.06396044e-10],\n",
       "       [8.50231014e-03, 9.91497695e-01],\n",
       "       [1.15006440e-03, 9.98849869e-01],\n",
       "       [1.03782257e-02, 9.89621758e-01],\n",
       "       [1.00000000e+00, 4.22412604e-35],\n",
       "       [1.69189647e-03, 9.98308063e-01],\n",
       "       [1.00000000e+00, 8.52799255e-12],\n",
       "       [1.00000000e+00, 1.47363022e-09],\n",
       "       [1.00000000e+00, 2.46103280e-08],\n",
       "       [1.47302321e-03, 9.98526931e-01],\n",
       "       [3.92373651e-01, 6.07626319e-01],\n",
       "       [1.27868622e-03, 9.98721302e-01],\n",
       "       [1.00000000e+00, 8.91685836e-09],\n",
       "       [1.04395323e-03, 9.98956084e-01],\n",
       "       [1.60119461e-03, 9.98398840e-01],\n",
       "       [9.65530694e-01, 3.44693027e-02],\n",
       "       [1.00000000e+00, 2.06052370e-10],\n",
       "       [1.00000000e+00, 1.04338751e-08],\n",
       "       [3.96645591e-02, 9.60335433e-01],\n",
       "       [1.00000000e+00, 1.37572150e-13],\n",
       "       [1.00000000e+00, 5.48529907e-16],\n",
       "       [1.00000000e+00, 1.86525373e-09],\n",
       "       [1.00000000e+00, 3.05286424e-17],\n",
       "       [1.00000000e+00, 9.45800038e-14],\n",
       "       [1.00000000e+00, 3.81496694e-15],\n",
       "       [1.00000000e+00, 1.09385894e-12],\n",
       "       [1.31543097e-03, 9.98684585e-01],\n",
       "       [1.00000000e+00, 3.77998973e-19],\n",
       "       [1.00000000e+00, 0.00000000e+00],\n",
       "       [1.00000000e+00, 1.97756676e-12],\n",
       "       [3.92723409e-03, 9.96072769e-01],\n",
       "       [1.00000000e+00, 1.96641884e-34],\n",
       "       [9.97926354e-01, 2.07361532e-03],\n",
       "       [1.00000000e+00, 0.00000000e+00],\n",
       "       [2.16183858e-03, 9.97838199e-01],\n",
       "       [1.00000000e+00, 6.37711672e-12],\n",
       "       [3.50463763e-03, 9.96495426e-01],\n",
       "       [4.55210591e-03, 9.95447934e-01],\n",
       "       [4.64665033e-02, 9.53533530e-01],\n",
       "       [2.40909168e-03, 9.97590899e-01],\n",
       "       [1.00000000e+00, 2.76880869e-23],\n",
       "       [1.00000000e+00, 3.50050078e-09],\n",
       "       [9.98934079e-03, 9.90010679e-01],\n",
       "       [1.00000000e+00, 7.01290623e-11],\n",
       "       [1.00000000e+00, 6.66310501e-26],\n",
       "       [1.54313492e-03, 9.98456836e-01],\n",
       "       [1.00000000e+00, 8.96600315e-29],\n",
       "       [1.00000000e+00, 4.38369095e-13],\n",
       "       [1.48975139e-03, 9.98510182e-01],\n",
       "       [1.70433556e-03, 9.98295724e-01]], dtype=float32)"
      ]
     },
     "execution_count": 22,
     "metadata": {},
     "output_type": "execute_result"
    }
   ],
   "source": [
    "y_pred"
   ]
  },
  {
   "cell_type": "code",
   "execution_count": 23,
   "metadata": {},
   "outputs": [],
   "source": [
    "import numpy as np\n",
    "y_pred = np.argmax(y_pred, axis=1)"
   ]
  },
  {
   "cell_type": "code",
   "execution_count": 24,
   "metadata": {},
   "outputs": [
    {
     "data": {
      "text/plain": [
       "array([1, 1, 0, 0, 0, 1, 0, 0, 0, 1, 0, 1, 0, 0, 1, 0, 1, 0, 0, 1, 1, 0,\n",
       "       0, 1, 1, 0, 0, 0, 0, 0, 1, 0, 1, 1, 0, 0, 0, 1, 0, 0, 1, 1, 1, 0,\n",
       "       0, 0, 0, 0, 1, 0, 0, 0, 1, 1, 1, 0, 1, 1, 0, 0, 0, 0, 0, 0, 1, 1,\n",
       "       0, 1, 1, 1, 1, 0, 1, 1, 1, 0, 0, 0, 0, 0, 1, 0, 0, 0, 0, 1, 1, 1,\n",
       "       0, 1, 0, 0, 0, 1, 1, 1, 0, 1, 1, 0, 0, 0, 1, 0, 0, 0, 0, 0, 0, 0,\n",
       "       1, 0, 0, 0, 1, 0, 0, 0, 1, 0, 1, 1, 1, 1, 0, 0, 1, 0, 0, 1, 0, 0,\n",
       "       1, 1], dtype=int64)"
      ]
     },
     "execution_count": 24,
     "metadata": {},
     "output_type": "execute_result"
    }
   ],
   "source": [
    "y_pred"
   ]
  },
  {
   "cell_type": "code",
   "execution_count": null,
   "metadata": {},
   "outputs": [],
   "source": []
  },
  {
   "cell_type": "code",
   "execution_count": 25,
   "metadata": {},
   "outputs": [],
   "source": [
    "from tensorflow.keras.models import load_model\n",
    "from tensorflow.keras.preprocessing import image"
   ]
  },
  {
   "cell_type": "code",
   "execution_count": 26,
   "metadata": {},
   "outputs": [],
   "source": [
    "model=load_model('model_vgg19.h5')"
   ]
  },
  {
   "cell_type": "code",
   "execution_count": null,
   "metadata": {},
   "outputs": [],
   "source": []
  },
  {
   "cell_type": "code",
   "execution_count": 27,
   "metadata": {},
   "outputs": [],
   "source": [
    "img=image.load_img('Dataset/Test/Uninfected/2.png',target_size=(224,224))\n",
    "\n"
   ]
  },
  {
   "cell_type": "code",
   "execution_count": 28,
   "metadata": {},
   "outputs": [
    {
     "data": {
      "text/plain": [
       "array([[[0., 0., 0.],\n",
       "        [0., 0., 0.],\n",
       "        [0., 0., 0.],\n",
       "        ...,\n",
       "        [0., 0., 0.],\n",
       "        [0., 0., 0.],\n",
       "        [0., 0., 0.]],\n",
       "\n",
       "       [[0., 0., 0.],\n",
       "        [0., 0., 0.],\n",
       "        [0., 0., 0.],\n",
       "        ...,\n",
       "        [0., 0., 0.],\n",
       "        [0., 0., 0.],\n",
       "        [0., 0., 0.]],\n",
       "\n",
       "       [[0., 0., 0.],\n",
       "        [0., 0., 0.],\n",
       "        [0., 0., 0.],\n",
       "        ...,\n",
       "        [0., 0., 0.],\n",
       "        [0., 0., 0.],\n",
       "        [0., 0., 0.]],\n",
       "\n",
       "       ...,\n",
       "\n",
       "       [[0., 0., 0.],\n",
       "        [0., 0., 0.],\n",
       "        [0., 0., 0.],\n",
       "        ...,\n",
       "        [0., 0., 0.],\n",
       "        [0., 0., 0.],\n",
       "        [0., 0., 0.]],\n",
       "\n",
       "       [[0., 0., 0.],\n",
       "        [0., 0., 0.],\n",
       "        [0., 0., 0.],\n",
       "        ...,\n",
       "        [0., 0., 0.],\n",
       "        [0., 0., 0.],\n",
       "        [0., 0., 0.]],\n",
       "\n",
       "       [[0., 0., 0.],\n",
       "        [0., 0., 0.],\n",
       "        [0., 0., 0.],\n",
       "        ...,\n",
       "        [0., 0., 0.],\n",
       "        [0., 0., 0.],\n",
       "        [0., 0., 0.]]], dtype=float32)"
      ]
     },
     "execution_count": 28,
     "metadata": {},
     "output_type": "execute_result"
    }
   ],
   "source": [
    "x=image.img_to_array(img)\n",
    "x"
   ]
  },
  {
   "cell_type": "code",
   "execution_count": 29,
   "metadata": {},
   "outputs": [
    {
     "data": {
      "text/plain": [
       "(224, 224, 3)"
      ]
     },
     "execution_count": 29,
     "metadata": {},
     "output_type": "execute_result"
    }
   ],
   "source": [
    "x.shape"
   ]
  },
  {
   "cell_type": "code",
   "execution_count": 30,
   "metadata": {},
   "outputs": [],
   "source": [
    "x=x/255"
   ]
  },
  {
   "cell_type": "code",
   "execution_count": 31,
   "metadata": {},
   "outputs": [
    {
     "data": {
      "text/plain": [
       "(1, 224, 224, 3)"
      ]
     },
     "execution_count": 31,
     "metadata": {},
     "output_type": "execute_result"
    }
   ],
   "source": [
    "x=np.expand_dims(x,axis=0)\n",
    "img_data=preprocess_input(x)\n",
    "img_data.shape"
   ]
  },
  {
   "cell_type": "code",
   "execution_count": 32,
   "metadata": {},
   "outputs": [
    {
     "data": {
      "text/plain": [
       "array([[1., 0.]], dtype=float32)"
      ]
     },
     "execution_count": 32,
     "metadata": {},
     "output_type": "execute_result"
    }
   ],
   "source": [
    "model.predict(img_data)"
   ]
  },
  {
   "cell_type": "code",
   "execution_count": 33,
   "metadata": {},
   "outputs": [],
   "source": [
    "a=np.argmax(model.predict(img_data), axis=1)"
   ]
  },
  {
   "cell_type": "code",
   "execution_count": 34,
   "metadata": {},
   "outputs": [
    {
     "name": "stdout",
     "output_type": "stream",
     "text": [
      "Infected\n"
     ]
    }
   ],
   "source": [
    "if(a==1):\n",
    "    print(\"Uninfected\")\n",
    "else:\n",
    "    print(\"Infected\")"
   ]
  },
  {
   "cell_type": "code",
   "execution_count": null,
   "metadata": {},
   "outputs": [],
   "source": []
  },
  {
   "cell_type": "code",
   "execution_count": null,
   "metadata": {},
   "outputs": [],
   "source": []
  }
 ],
 "metadata": {
  "kernelspec": {
   "display_name": "Python 3 (ipykernel)",
   "language": "python",
   "name": "python3"
  },
  "language_info": {
   "codemirror_mode": {
    "name": "ipython",
    "version": 3
   },
   "file_extension": ".py",
   "mimetype": "text/x-python",
   "name": "python",
   "nbconvert_exporter": "python",
   "pygments_lexer": "ipython3",
   "version": "3.9.7"
  }
 },
 "nbformat": 4,
 "nbformat_minor": 2
}
